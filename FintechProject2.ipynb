{
 "cells": [
  {
   "cell_type": "markdown",
   "id": "8db51f4d-7ebb-44ab-9591-ec6bdc858208",
   "metadata": {},
   "source": [
    "# FinTech Bootcamp Project 2\n",
    "\n",
    "### Evaluating The Risk of Making Investments in India\n",
    "\n",
    "##### This project will evaluate the risk in investing in India by comparing the results of similar investments that offer a fixed rate of interest. The reason for this evaluation is that investments with a fixed rate of interest in India offer a higher rate of interest than the same time of investment in the United States. However, it is possible that changes in the exchange rate between the Indian Rupee and the US Dollar could negate the potential benefits of making an investment in India. This is why this project will compare a ten year, 100,000 dollar investment in the United States with the same investment in India, and predict the most likely exchange rate after this ten year period. This will be done by using the previous ten years of exchange rate data and creating a model to predict the rate after another ten years based off of the previous rates."
   ]
  },
  {
   "cell_type": "markdown",
   "id": "ffa6338d-c4d0-4aac-8255-0ed688f2c5b6",
   "metadata": {},
   "source": [
    "## Steps for the Project\n",
    "\n",
    "#### 1. Simulate a 10 year 100,000 dollar investment in both the United States given the current average Certificate Of Deposit (CD) rates\n",
    "#### 2. Convert 100,000 dollars to rupees based off of the current exchange rate and simulate a 10 year investment given the average Fixed Deposit (FD) rates in India\n",
    "#### 3. Access the previous 10 years of exchange rate datas and use it to fit a Facebook Prophet Model\n",
    "#### 4. Use this Prophet Model to predict the most probable exchange rate after 10 years\n",
    "#### 5. Convert the Indian investment back in to US Dollars given the predicted future exchange rate and compare the returns of both investments"
   ]
  },
  {
   "cell_type": "code",
   "execution_count": 9,
   "id": "6602cc7c-f0f0-4ea6-9e51-d8dbda234a80",
   "metadata": {},
   "outputs": [],
   "source": [
    "import datetime\n",
    "import numpy as np\n",
    "import pandas as pd\n",
    "import seaborn as sns\n",
    "from forex_python.converter import CurrencyRates\n",
    "import mplfinance as mpf\n",
    "\n",
    "from pathlib import Path\n",
    "from prophet import Prophet\n",
    "import hvplot.pandas\n",
    "%matplotlib inline\n",
    "\n",
    "from easy_exchange_rates import API"
   ]
  },
  {
   "cell_type": "markdown",
   "id": "726cc06a-f6d3-4345-9688-decf0c3b436e",
   "metadata": {},
   "source": [
    "### Step 1"
   ]
  },
  {
   "cell_type": "code",
   "execution_count": 37,
   "id": "f9fa51ef-5bde-4a92-8bfa-4d52d2248ba0",
   "metadata": {},
   "outputs": [],
   "source": [
    "us_invest = 100000\n",
    "ind_invest = 100000\n",
    "\n",
    "us_rate = 0.5\n",
    "ind_rate = 6\n",
    "\n",
    "time_period = 10"
   ]
  },
  {
   "cell_type": "code",
   "execution_count": 38,
   "id": "b45ea9bf-1aa2-4e93-b681-17b753d910fe",
   "metadata": {},
   "outputs": [
    {
     "data": {
      "text/plain": [
       "73.07099940763307"
      ]
     },
     "metadata": {},
     "output_type": "display_data"
    },
    {
     "data": {
      "text/plain": [
       "7307099.940763307"
      ]
     },
     "metadata": {},
     "output_type": "display_data"
    }
   ],
   "source": [
    "date = datetime.datetime(2021, 9, 1)\n",
    "\n",
    "c = CurrencyRates()\n",
    "curr_rate = c.get_rate('USD', 'INR', date)\n",
    "display(curr_rate)\n",
    "ind_invest = ind_invest * curr_rate\n",
    "display(ind_invest)"
   ]
  },
  {
   "cell_type": "code",
   "execution_count": 39,
   "id": "4cbfa06d-2b1f-496a-b8c6-45da8f6c5430",
   "metadata": {},
   "outputs": [],
   "source": [
    "def compound_interest(principle, rate, time):\n",
    " \n",
    "    Amount = principle * (pow((1 + rate / 100), time))\n",
    "    CI = Amount - principle\n",
    "    return (CI)"
   ]
  },
  {
   "cell_type": "code",
   "execution_count": 40,
   "id": "a592efc5-f709-47f6-9f83-761b9614a2b5",
   "metadata": {},
   "outputs": [],
   "source": [
    "us_compounded = us_invest + compound_interest(us_invest, us_rate, time_period)\n",
    "ind_compounded = ind_invest + compound_interest(ind_invest, ind_rate, time_period)"
   ]
  },
  {
   "cell_type": "code",
   "execution_count": 41,
   "id": "00ff7fcb-b0c7-4ca8-9371-3c673e2c877e",
   "metadata": {},
   "outputs": [
    {
     "data": {
      "text/plain": [
       "105114.01320407896"
      ]
     },
     "metadata": {},
     "output_type": "display_data"
    },
    {
     "data": {
      "text/plain": [
       "13085903.097324397"
      ]
     },
     "metadata": {},
     "output_type": "display_data"
    }
   ],
   "source": [
    "display(us_compounded)\n",
    "display(ind_compounded)"
   ]
  },
  {
   "cell_type": "markdown",
   "id": "c17c0028-5260-40c0-866b-c8e69c890d37",
   "metadata": {},
   "source": [
    "### Step 2"
   ]
  },
  {
   "cell_type": "code",
   "execution_count": 42,
   "id": "911f17c4-a447-4157-8aff-dc16cb3bf929",
   "metadata": {},
   "outputs": [],
   "source": [
    "api = API()"
   ]
  },
  {
   "cell_type": "code",
   "execution_count": 43,
   "id": "4bae80ba-678b-46bd-ae04-42af0190bb1c",
   "metadata": {},
   "outputs": [],
   "source": [
    "time_series = api.get_exchange_rates(\n",
    "  base_currency=\"USD\", \n",
    "  start_date=\"2020-09-01\", \n",
    "  end_date=\"2021-09-01\", \n",
    "  targets=[\"INR\"]\n",
    ")\n",
    "\n",
    "data_frame = api.to_dataframe(time_series)"
   ]
  },
  {
   "cell_type": "code",
   "execution_count": 44,
   "id": "7b9af1f3-4bfc-475b-96e1-56c0b4da6ea1",
   "metadata": {},
   "outputs": [],
   "source": [
    "time_series = api.get_exchange_rates(\n",
    "  base_currency=\"USD\", \n",
    "  start_date=\"2019-09-01\", \n",
    "  end_date=\"2020-09-01\", \n",
    "  targets=[\"INR\"]\n",
    ")\n",
    "\n",
    "df_2 = api.to_dataframe(time_series)\n",
    "\n",
    "time_series = api.get_exchange_rates(\n",
    "  base_currency=\"USD\", \n",
    "  start_date=\"2018-09-01\", \n",
    "  end_date=\"2019-09-01\", \n",
    "  targets=[\"INR\"]\n",
    ")\n",
    "\n",
    "df_3 = api.to_dataframe(time_series)\n",
    "\n",
    "time_series = api.get_exchange_rates(\n",
    "  base_currency=\"USD\", \n",
    "  start_date=\"2017-09-01\", \n",
    "  end_date=\"2018-09-01\", \n",
    "  targets=[\"INR\"]\n",
    ")\n",
    "\n",
    "df_4 = api.to_dataframe(time_series)\n",
    "\n",
    "time_series = api.get_exchange_rates(\n",
    "  base_currency=\"USD\", \n",
    "  start_date=\"2016-09-01\", \n",
    "  end_date=\"2017-09-01\", \n",
    "  targets=[\"INR\"]\n",
    ")\n",
    "\n",
    "df_5 = api.to_dataframe(time_series)\n",
    "\n",
    "time_series = api.get_exchange_rates(\n",
    "  base_currency=\"USD\", \n",
    "  start_date=\"2015-09-01\", \n",
    "  end_date=\"2016-09-01\", \n",
    "  targets=[\"INR\"]\n",
    ")\n",
    "\n",
    "df_6 = api.to_dataframe(time_series)\n",
    "\n",
    "time_series = api.get_exchange_rates(\n",
    "  base_currency=\"USD\", \n",
    "  start_date=\"2014-09-01\", \n",
    "  end_date=\"2015-09-01\", \n",
    "  targets=[\"INR\"]\n",
    ")\n",
    "\n",
    "df_7 = api.to_dataframe(time_series)\n",
    "\n",
    "time_series = api.get_exchange_rates(\n",
    "  base_currency=\"USD\", \n",
    "  start_date=\"2013-09-01\", \n",
    "  end_date=\"2014-09-01\", \n",
    "  targets=[\"INR\"]\n",
    ")\n",
    "\n",
    "df_8 = api.to_dataframe(time_series)\n",
    "\n",
    "time_series = api.get_exchange_rates(\n",
    "  base_currency=\"USD\", \n",
    "  start_date=\"2012-09-01\", \n",
    "  end_date=\"2013-09-01\", \n",
    "  targets=[\"INR\"]\n",
    ")\n",
    "\n",
    "df_9 = api.to_dataframe(time_series)\n",
    "\n",
    "time_series = api.get_exchange_rates(\n",
    "  base_currency=\"USD\", \n",
    "  start_date=\"2011-09-01\", \n",
    "  end_date=\"2012-09-01\", \n",
    "  targets=[\"INR\"]\n",
    ")\n",
    "\n",
    "df = api.to_dataframe(time_series)"
   ]
  },
  {
   "cell_type": "code",
   "execution_count": 45,
   "id": "61e82845-eaa2-46dc-8483-14d07f0c8d8a",
   "metadata": {},
   "outputs": [
    {
     "data": {
      "text/html": [
       "<div>\n",
       "<style scoped>\n",
       "    .dataframe tbody tr th:only-of-type {\n",
       "        vertical-align: middle;\n",
       "    }\n",
       "\n",
       "    .dataframe tbody tr th {\n",
       "        vertical-align: top;\n",
       "    }\n",
       "\n",
       "    .dataframe thead th {\n",
       "        text-align: right;\n",
       "    }\n",
       "</style>\n",
       "<table border=\"1\" class=\"dataframe\">\n",
       "  <thead>\n",
       "    <tr style=\"text-align: right;\">\n",
       "      <th></th>\n",
       "      <th>INR</th>\n",
       "    </tr>\n",
       "  </thead>\n",
       "  <tbody>\n",
       "    <tr>\n",
       "      <th>2011-09-01</th>\n",
       "      <td>45.749565</td>\n",
       "    </tr>\n",
       "    <tr>\n",
       "      <th>2011-09-02</th>\n",
       "      <td>45.715888</td>\n",
       "    </tr>\n",
       "    <tr>\n",
       "      <th>2011-09-03</th>\n",
       "      <td>45.715888</td>\n",
       "    </tr>\n",
       "    <tr>\n",
       "      <th>2011-09-04</th>\n",
       "      <td>45.715888</td>\n",
       "    </tr>\n",
       "    <tr>\n",
       "      <th>2011-09-05</th>\n",
       "      <td>45.827801</td>\n",
       "    </tr>\n",
       "  </tbody>\n",
       "</table>\n",
       "</div>"
      ],
      "text/plain": [
       "                  INR\n",
       "2011-09-01  45.749565\n",
       "2011-09-02  45.715888\n",
       "2011-09-03  45.715888\n",
       "2011-09-04  45.715888\n",
       "2011-09-05  45.827801"
      ]
     },
     "metadata": {},
     "output_type": "display_data"
    },
    {
     "data": {
      "text/html": [
       "<div>\n",
       "<style scoped>\n",
       "    .dataframe tbody tr th:only-of-type {\n",
       "        vertical-align: middle;\n",
       "    }\n",
       "\n",
       "    .dataframe tbody tr th {\n",
       "        vertical-align: top;\n",
       "    }\n",
       "\n",
       "    .dataframe thead th {\n",
       "        text-align: right;\n",
       "    }\n",
       "</style>\n",
       "<table border=\"1\" class=\"dataframe\">\n",
       "  <thead>\n",
       "    <tr style=\"text-align: right;\">\n",
       "      <th></th>\n",
       "      <th>INR</th>\n",
       "    </tr>\n",
       "  </thead>\n",
       "  <tbody>\n",
       "    <tr>\n",
       "      <th>2021-08-28</th>\n",
       "      <td>73.405916</td>\n",
       "    </tr>\n",
       "    <tr>\n",
       "      <th>2021-08-29</th>\n",
       "      <td>73.428846</td>\n",
       "    </tr>\n",
       "    <tr>\n",
       "      <th>2021-08-30</th>\n",
       "      <td>73.343519</td>\n",
       "    </tr>\n",
       "    <tr>\n",
       "      <th>2021-08-31</th>\n",
       "      <td>72.957325</td>\n",
       "    </tr>\n",
       "    <tr>\n",
       "      <th>2021-09-01</th>\n",
       "      <td>72.973936</td>\n",
       "    </tr>\n",
       "  </tbody>\n",
       "</table>\n",
       "</div>"
      ],
      "text/plain": [
       "                  INR\n",
       "2021-08-28  73.405916\n",
       "2021-08-29  73.428846\n",
       "2021-08-30  73.343519\n",
       "2021-08-31  72.957325\n",
       "2021-09-01  72.973936"
      ]
     },
     "metadata": {},
     "output_type": "display_data"
    }
   ],
   "source": [
    "df_2 = df_2.append(data_frame)\n",
    "df_3 = df_3.append(df_2)\n",
    "df_4 = df_4.append(df_3)\n",
    "df_5 = df_5.append(df_4)\n",
    "df_6 = df_6.append(df_5)\n",
    "df_7 = df_7.append(df_6)\n",
    "df_8 = df_8.append(df_7)\n",
    "df_9 = df_9.append(df_8)\n",
    "df = df.append(df_9)\n",
    "\n",
    "display(df.head())\n",
    "display(df.tail())"
   ]
  },
  {
   "cell_type": "markdown",
   "id": "55af6631-0b4b-4914-9db9-13db1fb5cb9b",
   "metadata": {},
   "source": [
    "### Step 3"
   ]
  },
  {
   "cell_type": "code",
   "execution_count": 46,
   "id": "7c373434-f3f0-4d51-81f2-4d32d84274d6",
   "metadata": {},
   "outputs": [
    {
     "data": {
      "text/plain": [
       "(3660, 2)"
      ]
     },
     "metadata": {},
     "output_type": "display_data"
    },
    {
     "data": {
      "text/html": [
       "<div>\n",
       "<style scoped>\n",
       "    .dataframe tbody tr th:only-of-type {\n",
       "        vertical-align: middle;\n",
       "    }\n",
       "\n",
       "    .dataframe tbody tr th {\n",
       "        vertical-align: top;\n",
       "    }\n",
       "\n",
       "    .dataframe thead th {\n",
       "        text-align: right;\n",
       "    }\n",
       "</style>\n",
       "<table border=\"1\" class=\"dataframe\">\n",
       "  <thead>\n",
       "    <tr style=\"text-align: right;\">\n",
       "      <th></th>\n",
       "      <th>y</th>\n",
       "      <th>ds</th>\n",
       "    </tr>\n",
       "  </thead>\n",
       "  <tbody>\n",
       "    <tr>\n",
       "      <th>2011-09-01</th>\n",
       "      <td>45.749565</td>\n",
       "      <td>2011-09-01</td>\n",
       "    </tr>\n",
       "    <tr>\n",
       "      <th>2011-09-02</th>\n",
       "      <td>45.715888</td>\n",
       "      <td>2011-09-02</td>\n",
       "    </tr>\n",
       "    <tr>\n",
       "      <th>2011-09-03</th>\n",
       "      <td>45.715888</td>\n",
       "      <td>2011-09-03</td>\n",
       "    </tr>\n",
       "    <tr>\n",
       "      <th>2011-09-04</th>\n",
       "      <td>45.715888</td>\n",
       "      <td>2011-09-04</td>\n",
       "    </tr>\n",
       "    <tr>\n",
       "      <th>2011-09-05</th>\n",
       "      <td>45.827801</td>\n",
       "      <td>2011-09-05</td>\n",
       "    </tr>\n",
       "  </tbody>\n",
       "</table>\n",
       "</div>"
      ],
      "text/plain": [
       "                    y          ds\n",
       "2011-09-01  45.749565  2011-09-01\n",
       "2011-09-02  45.715888  2011-09-02\n",
       "2011-09-03  45.715888  2011-09-03\n",
       "2011-09-04  45.715888  2011-09-04\n",
       "2011-09-05  45.827801  2011-09-05"
      ]
     },
     "metadata": {},
     "output_type": "display_data"
    },
    {
     "data": {
      "text/html": [
       "<div>\n",
       "<style scoped>\n",
       "    .dataframe tbody tr th:only-of-type {\n",
       "        vertical-align: middle;\n",
       "    }\n",
       "\n",
       "    .dataframe tbody tr th {\n",
       "        vertical-align: top;\n",
       "    }\n",
       "\n",
       "    .dataframe thead th {\n",
       "        text-align: right;\n",
       "    }\n",
       "</style>\n",
       "<table border=\"1\" class=\"dataframe\">\n",
       "  <thead>\n",
       "    <tr style=\"text-align: right;\">\n",
       "      <th></th>\n",
       "      <th>y</th>\n",
       "      <th>ds</th>\n",
       "    </tr>\n",
       "  </thead>\n",
       "  <tbody>\n",
       "    <tr>\n",
       "      <th>2021-08-28</th>\n",
       "      <td>73.405916</td>\n",
       "      <td>2021-08-28</td>\n",
       "    </tr>\n",
       "    <tr>\n",
       "      <th>2021-08-29</th>\n",
       "      <td>73.428846</td>\n",
       "      <td>2021-08-29</td>\n",
       "    </tr>\n",
       "    <tr>\n",
       "      <th>2021-08-30</th>\n",
       "      <td>73.343519</td>\n",
       "      <td>2021-08-30</td>\n",
       "    </tr>\n",
       "    <tr>\n",
       "      <th>2021-08-31</th>\n",
       "      <td>72.957325</td>\n",
       "      <td>2021-08-31</td>\n",
       "    </tr>\n",
       "    <tr>\n",
       "      <th>2021-09-01</th>\n",
       "      <td>72.973936</td>\n",
       "      <td>2021-09-01</td>\n",
       "    </tr>\n",
       "  </tbody>\n",
       "</table>\n",
       "</div>"
      ],
      "text/plain": [
       "                    y          ds\n",
       "2021-08-28  73.405916  2021-08-28\n",
       "2021-08-29  73.428846  2021-08-29\n",
       "2021-08-30  73.343519  2021-08-30\n",
       "2021-08-31  72.957325  2021-08-31\n",
       "2021-09-01  72.973936  2021-09-01"
      ]
     },
     "metadata": {},
     "output_type": "display_data"
    }
   ],
   "source": [
    "df['date'] = df.index\n",
    "df.columns = ['y', 'ds']\n",
    "display(df.shape)\n",
    "display(df.head())\n",
    "display(df.tail())"
   ]
  },
  {
   "cell_type": "code",
   "execution_count": 47,
   "id": "c497f6eb-fa6f-4a03-b5ad-5fd397180116",
   "metadata": {},
   "outputs": [
    {
     "data": {
      "text/plain": [
       "<prophet.forecaster.Prophet at 0x7f8440e31850>"
      ]
     },
     "execution_count": 47,
     "metadata": {},
     "output_type": "execute_result"
    }
   ],
   "source": [
    "model = Prophet()\n",
    "model"
   ]
  },
  {
   "cell_type": "code",
   "execution_count": 48,
   "id": "3de91af9-8c6f-484e-91b0-ddc5e41c0986",
   "metadata": {},
   "outputs": [
    {
     "name": "stderr",
     "output_type": "stream",
     "text": [
      "INFO:prophet:Disabling daily seasonality. Run prophet with daily_seasonality=True to override this.\n"
     ]
    },
    {
     "data": {
      "text/plain": [
       "<prophet.forecaster.Prophet at 0x7f8440e31850>"
      ]
     },
     "execution_count": 48,
     "metadata": {},
     "output_type": "execute_result"
    }
   ],
   "source": [
    "model.fit(df)"
   ]
  },
  {
   "cell_type": "code",
   "execution_count": 51,
   "id": "438571da-5d47-4118-826c-13083a5d9f7d",
   "metadata": {},
   "outputs": [
    {
     "data": {
      "text/html": [
       "<div>\n",
       "<style scoped>\n",
       "    .dataframe tbody tr th:only-of-type {\n",
       "        vertical-align: middle;\n",
       "    }\n",
       "\n",
       "    .dataframe tbody tr th {\n",
       "        vertical-align: top;\n",
       "    }\n",
       "\n",
       "    .dataframe thead th {\n",
       "        text-align: right;\n",
       "    }\n",
       "</style>\n",
       "<table border=\"1\" class=\"dataframe\">\n",
       "  <thead>\n",
       "    <tr style=\"text-align: right;\">\n",
       "      <th></th>\n",
       "      <th>ds</th>\n",
       "    </tr>\n",
       "  </thead>\n",
       "  <tbody>\n",
       "    <tr>\n",
       "      <th>0</th>\n",
       "      <td>2011-09-01</td>\n",
       "    </tr>\n",
       "    <tr>\n",
       "      <th>1</th>\n",
       "      <td>2011-09-02</td>\n",
       "    </tr>\n",
       "    <tr>\n",
       "      <th>2</th>\n",
       "      <td>2011-09-03</td>\n",
       "    </tr>\n",
       "    <tr>\n",
       "      <th>3</th>\n",
       "      <td>2011-09-04</td>\n",
       "    </tr>\n",
       "    <tr>\n",
       "      <th>4</th>\n",
       "      <td>2011-09-05</td>\n",
       "    </tr>\n",
       "  </tbody>\n",
       "</table>\n",
       "</div>"
      ],
      "text/plain": [
       "          ds\n",
       "0 2011-09-01\n",
       "1 2011-09-02\n",
       "2 2011-09-03\n",
       "3 2011-09-04\n",
       "4 2011-09-05"
      ]
     },
     "metadata": {},
     "output_type": "display_data"
    },
    {
     "data": {
      "text/html": [
       "<div>\n",
       "<style scoped>\n",
       "    .dataframe tbody tr th:only-of-type {\n",
       "        vertical-align: middle;\n",
       "    }\n",
       "\n",
       "    .dataframe tbody tr th {\n",
       "        vertical-align: top;\n",
       "    }\n",
       "\n",
       "    .dataframe thead th {\n",
       "        text-align: right;\n",
       "    }\n",
       "</style>\n",
       "<table border=\"1\" class=\"dataframe\">\n",
       "  <thead>\n",
       "    <tr style=\"text-align: right;\">\n",
       "      <th></th>\n",
       "      <th>ds</th>\n",
       "    </tr>\n",
       "  </thead>\n",
       "  <tbody>\n",
       "    <tr>\n",
       "      <th>3769</th>\n",
       "      <td>2031-04-30</td>\n",
       "    </tr>\n",
       "    <tr>\n",
       "      <th>3770</th>\n",
       "      <td>2031-05-31</td>\n",
       "    </tr>\n",
       "    <tr>\n",
       "      <th>3771</th>\n",
       "      <td>2031-06-30</td>\n",
       "    </tr>\n",
       "    <tr>\n",
       "      <th>3772</th>\n",
       "      <td>2031-07-31</td>\n",
       "    </tr>\n",
       "    <tr>\n",
       "      <th>3773</th>\n",
       "      <td>2031-08-31</td>\n",
       "    </tr>\n",
       "  </tbody>\n",
       "</table>\n",
       "</div>"
      ],
      "text/plain": [
       "             ds\n",
       "3769 2031-04-30\n",
       "3770 2031-05-31\n",
       "3771 2031-06-30\n",
       "3772 2031-07-31\n",
       "3773 2031-08-31"
      ]
     },
     "metadata": {},
     "output_type": "display_data"
    }
   ],
   "source": [
    "future_trends = model.make_future_dataframe(periods=120, freq='M')\n",
    "display(future_trends.head())\n",
    "display(future_trends.tail())"
   ]
  },
  {
   "cell_type": "code",
   "execution_count": 52,
   "id": "87ea4da8-1fa6-49ec-8a9c-3cf6529e5a76",
   "metadata": {},
   "outputs": [
    {
     "data": {
      "text/html": [
       "<div>\n",
       "<style scoped>\n",
       "    .dataframe tbody tr th:only-of-type {\n",
       "        vertical-align: middle;\n",
       "    }\n",
       "\n",
       "    .dataframe tbody tr th {\n",
       "        vertical-align: top;\n",
       "    }\n",
       "\n",
       "    .dataframe thead th {\n",
       "        text-align: right;\n",
       "    }\n",
       "</style>\n",
       "<table border=\"1\" class=\"dataframe\">\n",
       "  <thead>\n",
       "    <tr style=\"text-align: right;\">\n",
       "      <th></th>\n",
       "      <th>ds</th>\n",
       "      <th>trend</th>\n",
       "      <th>yhat_lower</th>\n",
       "      <th>yhat_upper</th>\n",
       "      <th>trend_lower</th>\n",
       "      <th>trend_upper</th>\n",
       "      <th>additive_terms</th>\n",
       "      <th>additive_terms_lower</th>\n",
       "      <th>additive_terms_upper</th>\n",
       "      <th>weekly</th>\n",
       "      <th>weekly_lower</th>\n",
       "      <th>weekly_upper</th>\n",
       "      <th>yearly</th>\n",
       "      <th>yearly_lower</th>\n",
       "      <th>yearly_upper</th>\n",
       "      <th>multiplicative_terms</th>\n",
       "      <th>multiplicative_terms_lower</th>\n",
       "      <th>multiplicative_terms_upper</th>\n",
       "      <th>yhat</th>\n",
       "    </tr>\n",
       "  </thead>\n",
       "  <tbody>\n",
       "    <tr>\n",
       "      <th>0</th>\n",
       "      <td>2011-09-01</td>\n",
       "      <td>47.680993</td>\n",
       "      <td>46.799151</td>\n",
       "      <td>49.520246</td>\n",
       "      <td>47.680993</td>\n",
       "      <td>47.680993</td>\n",
       "      <td>0.462406</td>\n",
       "      <td>0.462406</td>\n",
       "      <td>0.462406</td>\n",
       "      <td>0.030782</td>\n",
       "      <td>0.030782</td>\n",
       "      <td>0.030782</td>\n",
       "      <td>0.431625</td>\n",
       "      <td>0.431625</td>\n",
       "      <td>0.431625</td>\n",
       "      <td>0.0</td>\n",
       "      <td>0.0</td>\n",
       "      <td>0.0</td>\n",
       "      <td>48.143399</td>\n",
       "    </tr>\n",
       "    <tr>\n",
       "      <th>1</th>\n",
       "      <td>2011-09-02</td>\n",
       "      <td>47.706581</td>\n",
       "      <td>46.776228</td>\n",
       "      <td>49.609258</td>\n",
       "      <td>47.706581</td>\n",
       "      <td>47.706581</td>\n",
       "      <td>0.439866</td>\n",
       "      <td>0.439866</td>\n",
       "      <td>0.439866</td>\n",
       "      <td>0.006638</td>\n",
       "      <td>0.006638</td>\n",
       "      <td>0.006638</td>\n",
       "      <td>0.433227</td>\n",
       "      <td>0.433227</td>\n",
       "      <td>0.433227</td>\n",
       "      <td>0.0</td>\n",
       "      <td>0.0</td>\n",
       "      <td>0.0</td>\n",
       "      <td>48.146447</td>\n",
       "    </tr>\n",
       "    <tr>\n",
       "      <th>2</th>\n",
       "      <td>2011-09-03</td>\n",
       "      <td>47.732169</td>\n",
       "      <td>46.777616</td>\n",
       "      <td>49.449001</td>\n",
       "      <td>47.732169</td>\n",
       "      <td>47.732169</td>\n",
       "      <td>0.433262</td>\n",
       "      <td>0.433262</td>\n",
       "      <td>0.433262</td>\n",
       "      <td>0.001561</td>\n",
       "      <td>0.001561</td>\n",
       "      <td>0.001561</td>\n",
       "      <td>0.431701</td>\n",
       "      <td>0.431701</td>\n",
       "      <td>0.431701</td>\n",
       "      <td>0.0</td>\n",
       "      <td>0.0</td>\n",
       "      <td>0.0</td>\n",
       "      <td>48.165431</td>\n",
       "    </tr>\n",
       "    <tr>\n",
       "      <th>3</th>\n",
       "      <td>2011-09-04</td>\n",
       "      <td>47.757758</td>\n",
       "      <td>46.782788</td>\n",
       "      <td>49.517863</td>\n",
       "      <td>47.757758</td>\n",
       "      <td>47.757758</td>\n",
       "      <td>0.431053</td>\n",
       "      <td>0.431053</td>\n",
       "      <td>0.431053</td>\n",
       "      <td>0.003942</td>\n",
       "      <td>0.003942</td>\n",
       "      <td>0.003942</td>\n",
       "      <td>0.427111</td>\n",
       "      <td>0.427111</td>\n",
       "      <td>0.427111</td>\n",
       "      <td>0.0</td>\n",
       "      <td>0.0</td>\n",
       "      <td>0.0</td>\n",
       "      <td>48.188810</td>\n",
       "    </tr>\n",
       "    <tr>\n",
       "      <th>4</th>\n",
       "      <td>2011-09-05</td>\n",
       "      <td>47.783346</td>\n",
       "      <td>46.728461</td>\n",
       "      <td>49.410194</td>\n",
       "      <td>47.783346</td>\n",
       "      <td>47.783346</td>\n",
       "      <td>0.321930</td>\n",
       "      <td>0.321930</td>\n",
       "      <td>0.321930</td>\n",
       "      <td>-0.097638</td>\n",
       "      <td>-0.097638</td>\n",
       "      <td>-0.097638</td>\n",
       "      <td>0.419568</td>\n",
       "      <td>0.419568</td>\n",
       "      <td>0.419568</td>\n",
       "      <td>0.0</td>\n",
       "      <td>0.0</td>\n",
       "      <td>0.0</td>\n",
       "      <td>48.105276</td>\n",
       "    </tr>\n",
       "  </tbody>\n",
       "</table>\n",
       "</div>"
      ],
      "text/plain": [
       "          ds      trend  yhat_lower  yhat_upper  trend_lower  trend_upper  \\\n",
       "0 2011-09-01  47.680993   46.799151   49.520246    47.680993    47.680993   \n",
       "1 2011-09-02  47.706581   46.776228   49.609258    47.706581    47.706581   \n",
       "2 2011-09-03  47.732169   46.777616   49.449001    47.732169    47.732169   \n",
       "3 2011-09-04  47.757758   46.782788   49.517863    47.757758    47.757758   \n",
       "4 2011-09-05  47.783346   46.728461   49.410194    47.783346    47.783346   \n",
       "\n",
       "   additive_terms  additive_terms_lower  additive_terms_upper    weekly  \\\n",
       "0        0.462406              0.462406              0.462406  0.030782   \n",
       "1        0.439866              0.439866              0.439866  0.006638   \n",
       "2        0.433262              0.433262              0.433262  0.001561   \n",
       "3        0.431053              0.431053              0.431053  0.003942   \n",
       "4        0.321930              0.321930              0.321930 -0.097638   \n",
       "\n",
       "   weekly_lower  weekly_upper    yearly  yearly_lower  yearly_upper  \\\n",
       "0      0.030782      0.030782  0.431625      0.431625      0.431625   \n",
       "1      0.006638      0.006638  0.433227      0.433227      0.433227   \n",
       "2      0.001561      0.001561  0.431701      0.431701      0.431701   \n",
       "3      0.003942      0.003942  0.427111      0.427111      0.427111   \n",
       "4     -0.097638     -0.097638  0.419568      0.419568      0.419568   \n",
       "\n",
       "   multiplicative_terms  multiplicative_terms_lower  \\\n",
       "0                   0.0                         0.0   \n",
       "1                   0.0                         0.0   \n",
       "2                   0.0                         0.0   \n",
       "3                   0.0                         0.0   \n",
       "4                   0.0                         0.0   \n",
       "\n",
       "   multiplicative_terms_upper       yhat  \n",
       "0                         0.0  48.143399  \n",
       "1                         0.0  48.146447  \n",
       "2                         0.0  48.165431  \n",
       "3                         0.0  48.188810  \n",
       "4                         0.0  48.105276  "
      ]
     },
     "execution_count": 52,
     "metadata": {},
     "output_type": "execute_result"
    }
   ],
   "source": [
    "forecast_trends = model.predict(future_trends)\n",
    "forecast_trends.head()"
   ]
  },
  {
   "cell_type": "code",
   "execution_count": 53,
   "id": "6eecfabc-4a04-49c4-b1af-cf894788aaf3",
   "metadata": {},
   "outputs": [
    {
     "data": {
      "text/html": [
       "<div>\n",
       "<style scoped>\n",
       "    .dataframe tbody tr th:only-of-type {\n",
       "        vertical-align: middle;\n",
       "    }\n",
       "\n",
       "    .dataframe tbody tr th {\n",
       "        vertical-align: top;\n",
       "    }\n",
       "\n",
       "    .dataframe thead th {\n",
       "        text-align: right;\n",
       "    }\n",
       "</style>\n",
       "<table border=\"1\" class=\"dataframe\">\n",
       "  <thead>\n",
       "    <tr style=\"text-align: right;\">\n",
       "      <th></th>\n",
       "      <th>trend</th>\n",
       "      <th>yhat_lower</th>\n",
       "      <th>yhat_upper</th>\n",
       "      <th>trend_lower</th>\n",
       "      <th>trend_upper</th>\n",
       "      <th>additive_terms</th>\n",
       "      <th>additive_terms_lower</th>\n",
       "      <th>additive_terms_upper</th>\n",
       "      <th>weekly</th>\n",
       "      <th>weekly_lower</th>\n",
       "      <th>weekly_upper</th>\n",
       "      <th>yearly</th>\n",
       "      <th>yearly_lower</th>\n",
       "      <th>yearly_upper</th>\n",
       "      <th>multiplicative_terms</th>\n",
       "      <th>multiplicative_terms_lower</th>\n",
       "      <th>multiplicative_terms_upper</th>\n",
       "      <th>yhat</th>\n",
       "    </tr>\n",
       "    <tr>\n",
       "      <th>ds</th>\n",
       "      <th></th>\n",
       "      <th></th>\n",
       "      <th></th>\n",
       "      <th></th>\n",
       "      <th></th>\n",
       "      <th></th>\n",
       "      <th></th>\n",
       "      <th></th>\n",
       "      <th></th>\n",
       "      <th></th>\n",
       "      <th></th>\n",
       "      <th></th>\n",
       "      <th></th>\n",
       "      <th></th>\n",
       "      <th></th>\n",
       "      <th></th>\n",
       "      <th></th>\n",
       "      <th></th>\n",
       "    </tr>\n",
       "  </thead>\n",
       "  <tbody>\n",
       "    <tr>\n",
       "      <th>2031-04-30</th>\n",
       "      <td>89.566760</td>\n",
       "      <td>-193.334325</td>\n",
       "      <td>344.387334</td>\n",
       "      <td>-194.595708</td>\n",
       "      <td>343.909622</td>\n",
       "      <td>-0.043827</td>\n",
       "      <td>-0.043827</td>\n",
       "      <td>-0.043827</td>\n",
       "      <td>0.030351</td>\n",
       "      <td>0.030351</td>\n",
       "      <td>0.030351</td>\n",
       "      <td>-0.074178</td>\n",
       "      <td>-0.074178</td>\n",
       "      <td>-0.074178</td>\n",
       "      <td>0.0</td>\n",
       "      <td>0.0</td>\n",
       "      <td>0.0</td>\n",
       "      <td>89.522933</td>\n",
       "    </tr>\n",
       "    <tr>\n",
       "      <th>2031-05-31</th>\n",
       "      <td>89.696193</td>\n",
       "      <td>-199.519665</td>\n",
       "      <td>348.852606</td>\n",
       "      <td>-199.339369</td>\n",
       "      <td>347.689346</td>\n",
       "      <td>-0.055701</td>\n",
       "      <td>-0.055701</td>\n",
       "      <td>-0.055701</td>\n",
       "      <td>0.001561</td>\n",
       "      <td>0.001561</td>\n",
       "      <td>0.001561</td>\n",
       "      <td>-0.057262</td>\n",
       "      <td>-0.057262</td>\n",
       "      <td>-0.057262</td>\n",
       "      <td>0.0</td>\n",
       "      <td>0.0</td>\n",
       "      <td>0.0</td>\n",
       "      <td>89.640492</td>\n",
       "    </tr>\n",
       "    <tr>\n",
       "      <th>2031-06-30</th>\n",
       "      <td>89.821452</td>\n",
       "      <td>-206.153822</td>\n",
       "      <td>352.589454</td>\n",
       "      <td>-203.975353</td>\n",
       "      <td>351.441376</td>\n",
       "      <td>0.228758</td>\n",
       "      <td>0.228758</td>\n",
       "      <td>0.228758</td>\n",
       "      <td>-0.097638</td>\n",
       "      <td>-0.097638</td>\n",
       "      <td>-0.097638</td>\n",
       "      <td>0.326396</td>\n",
       "      <td>0.326396</td>\n",
       "      <td>0.326396</td>\n",
       "      <td>0.0</td>\n",
       "      <td>0.0</td>\n",
       "      <td>0.0</td>\n",
       "      <td>90.050210</td>\n",
       "    </tr>\n",
       "    <tr>\n",
       "      <th>2031-07-31</th>\n",
       "      <td>89.950885</td>\n",
       "      <td>-208.074618</td>\n",
       "      <td>355.476187</td>\n",
       "      <td>-208.513028</td>\n",
       "      <td>355.466178</td>\n",
       "      <td>-0.283334</td>\n",
       "      <td>-0.283334</td>\n",
       "      <td>-0.283334</td>\n",
       "      <td>0.030782</td>\n",
       "      <td>0.030782</td>\n",
       "      <td>0.030782</td>\n",
       "      <td>-0.314116</td>\n",
       "      <td>-0.314116</td>\n",
       "      <td>-0.314116</td>\n",
       "      <td>0.0</td>\n",
       "      <td>0.0</td>\n",
       "      <td>0.0</td>\n",
       "      <td>89.667551</td>\n",
       "    </tr>\n",
       "    <tr>\n",
       "      <th>2031-08-31</th>\n",
       "      <td>90.080319</td>\n",
       "      <td>-211.717827</td>\n",
       "      <td>360.565724</td>\n",
       "      <td>-212.358419</td>\n",
       "      <td>359.447774</td>\n",
       "      <td>0.430817</td>\n",
       "      <td>0.430817</td>\n",
       "      <td>0.430817</td>\n",
       "      <td>0.003942</td>\n",
       "      <td>0.003942</td>\n",
       "      <td>0.003942</td>\n",
       "      <td>0.426875</td>\n",
       "      <td>0.426875</td>\n",
       "      <td>0.426875</td>\n",
       "      <td>0.0</td>\n",
       "      <td>0.0</td>\n",
       "      <td>0.0</td>\n",
       "      <td>90.511136</td>\n",
       "    </tr>\n",
       "  </tbody>\n",
       "</table>\n",
       "</div>"
      ],
      "text/plain": [
       "                trend  yhat_lower  yhat_upper  trend_lower  trend_upper  \\\n",
       "ds                                                                        \n",
       "2031-04-30  89.566760 -193.334325  344.387334  -194.595708   343.909622   \n",
       "2031-05-31  89.696193 -199.519665  348.852606  -199.339369   347.689346   \n",
       "2031-06-30  89.821452 -206.153822  352.589454  -203.975353   351.441376   \n",
       "2031-07-31  89.950885 -208.074618  355.476187  -208.513028   355.466178   \n",
       "2031-08-31  90.080319 -211.717827  360.565724  -212.358419   359.447774   \n",
       "\n",
       "            additive_terms  additive_terms_lower  additive_terms_upper  \\\n",
       "ds                                                                       \n",
       "2031-04-30       -0.043827             -0.043827             -0.043827   \n",
       "2031-05-31       -0.055701             -0.055701             -0.055701   \n",
       "2031-06-30        0.228758              0.228758              0.228758   \n",
       "2031-07-31       -0.283334             -0.283334             -0.283334   \n",
       "2031-08-31        0.430817              0.430817              0.430817   \n",
       "\n",
       "              weekly  weekly_lower  weekly_upper    yearly  yearly_lower  \\\n",
       "ds                                                                         \n",
       "2031-04-30  0.030351      0.030351      0.030351 -0.074178     -0.074178   \n",
       "2031-05-31  0.001561      0.001561      0.001561 -0.057262     -0.057262   \n",
       "2031-06-30 -0.097638     -0.097638     -0.097638  0.326396      0.326396   \n",
       "2031-07-31  0.030782      0.030782      0.030782 -0.314116     -0.314116   \n",
       "2031-08-31  0.003942      0.003942      0.003942  0.426875      0.426875   \n",
       "\n",
       "            yearly_upper  multiplicative_terms  multiplicative_terms_lower  \\\n",
       "ds                                                                           \n",
       "2031-04-30     -0.074178                   0.0                         0.0   \n",
       "2031-05-31     -0.057262                   0.0                         0.0   \n",
       "2031-06-30      0.326396                   0.0                         0.0   \n",
       "2031-07-31     -0.314116                   0.0                         0.0   \n",
       "2031-08-31      0.426875                   0.0                         0.0   \n",
       "\n",
       "            multiplicative_terms_upper       yhat  \n",
       "ds                                                 \n",
       "2031-04-30                         0.0  89.522933  \n",
       "2031-05-31                         0.0  89.640492  \n",
       "2031-06-30                         0.0  90.050210  \n",
       "2031-07-31                         0.0  89.667551  \n",
       "2031-08-31                         0.0  90.511136  "
      ]
     },
     "execution_count": 53,
     "metadata": {},
     "output_type": "execute_result"
    }
   ],
   "source": [
    "forecast_trends = forecast_trends.set_index(['ds'])\n",
    "forecast_trends.tail()"
   ]
  },
  {
   "cell_type": "markdown",
   "id": "b84d43d1-cbdc-4d1e-a738-e6ca55a99f36",
   "metadata": {},
   "source": [
    "#### The yhat, or most likely outcome, for the end of the term is 90.51 rupees to the dollar "
   ]
  },
  {
   "cell_type": "markdown",
   "id": "ec154270-47ee-4317-a96e-e03850a79331",
   "metadata": {},
   "source": [
    "### Step 4"
   ]
  },
  {
   "cell_type": "code",
   "execution_count": 57,
   "id": "7d65dcf8-9c49-4959-927a-00c22fb08e1c",
   "metadata": {},
   "outputs": [
    {
     "data": {
      "text/plain": [
       "144579.63868439285"
      ]
     },
     "execution_count": 57,
     "metadata": {},
     "output_type": "execute_result"
    }
   ],
   "source": [
    "new_exchange = 90.51\n",
    "ind_compounded = ind_compounded / new_exchange\n",
    "ind_compounded"
   ]
  },
  {
   "cell_type": "code",
   "execution_count": 58,
   "id": "b3db6268-3261-4886-86fd-76be330ab294",
   "metadata": {},
   "outputs": [
    {
     "data": {
      "text/plain": [
       "105114.01320407896"
      ]
     },
     "execution_count": 58,
     "metadata": {},
     "output_type": "execute_result"
    }
   ],
   "source": [
    "us_compounded"
   ]
  },
  {
   "cell_type": "code",
   "execution_count": 60,
   "id": "aa74e5c8-6231-4bc1-9350-884e1eba7c0f",
   "metadata": {},
   "outputs": [
    {
     "name": "stdout",
     "output_type": "stream",
     "text": [
      "1.4457963868439285\n",
      "1.0511401320407896\n"
     ]
    }
   ],
   "source": [
    "\n",
    "print (ind_compounded / 100000)\n",
    "print (us_compounded / 100000)"
   ]
  },
  {
   "cell_type": "markdown",
   "id": "fde882bc-e65d-42d8-874b-4498be5053df",
   "metadata": {},
   "source": [
    "#### After ten years, the investment in India is likely to end up returning 144,579.63 dollars and the investment in the United States is likely to end up returning 105,114.01 dollars, which is about a 37.5% greater return"
   ]
  },
  {
   "cell_type": "code",
   "execution_count": null,
   "id": "98abe7ec-6420-4c86-a546-7900115b9233",
   "metadata": {},
   "outputs": [],
   "source": []
  }
 ],
 "metadata": {
  "kernelspec": {
   "display_name": "dev",
   "language": "python",
   "name": "dev"
  },
  "language_info": {
   "codemirror_mode": {
    "name": "ipython",
    "version": 3
   },
   "file_extension": ".py",
   "mimetype": "text/x-python",
   "name": "python",
   "nbconvert_exporter": "python",
   "pygments_lexer": "ipython3",
   "version": "3.7.10"
  }
 },
 "nbformat": 4,
 "nbformat_minor": 5
}
